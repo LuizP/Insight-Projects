{
  "nbformat": 4,
  "nbformat_minor": 0,
  "metadata": {
    "colab": {
      "name": "IP1 - Segmentação de Clientes.ipynb",
      "provenance": [],
      "authorship_tag": "ABX9TyPsHYGR56UT/WY83B8lHN8q",
      "include_colab_link": true
    },
    "kernelspec": {
      "name": "python3",
      "display_name": "Python 3"
    },
    "language_info": {
      "name": "python"
    }
  },
  "cells": [
    {
      "cell_type": "markdown",
      "metadata": {
        "id": "view-in-github",
        "colab_type": "text"
      },
      "source": [
        "<a href=\"https://colab.research.google.com/github/LuizP/Insight-Projects/blob/main/IP1_Segmenta%C3%A7%C3%A3o_de_Clientes.ipynb\" target=\"_parent\"><img src=\"https://colab.research.google.com/assets/colab-badge.svg\" alt=\"Open In Colab\"/></a>"
      ]
    },
    {
      "cell_type": "markdown",
      "source": [
        "**O banco de dados bank-additional-full.csv/kaggle foi inicialmente criado para uma tarefa de classificação. Aqui irá se usar o banco de dados para segmentar clientes.**\n",
        "\n"
      ],
      "metadata": {
        "id": "vDGnmw2A9q5T"
      }
    },
    {
      "cell_type": "code",
      "execution_count": 3,
      "metadata": {
        "colab": {
          "base_uri": "https://localhost:8080/"
        },
        "id": "U6Tc1t7eVlIV",
        "outputId": "3aad8704-0883-440c-eda8-c4cc6d74d6de"
      },
      "outputs": [
        {
          "output_type": "stream",
          "name": "stdout",
          "text": [
            "Drive already mounted at /content/drive; to attempt to forcibly remount, call drive.mount(\"/content/drive\", force_remount=True).\n"
          ]
        }
      ],
      "source": [
        "from google.colab import drive\n",
        "drive.mount('/content/drive')\n",
        "import pandas as pd\n",
        "bank_data =  pd.read_csv('/content/drive/MyDrive/portifólio/bank-additional-full.csv', sep=';') #o separador do arquivo é o ; então para criar-se o dataframe é necessário especificar o separador."
      ]
    },
    {
      "cell_type": "code",
      "source": [
        "#libraries\n",
        "import numpy as np\n",
        "import pandas as pd\n",
        "import matplotlib.pyplot as plt\n",
        "import seaborn as sns"
      ],
      "metadata": {
        "id": "JRDEudfPnbxO"
      },
      "execution_count": 4,
      "outputs": []
    },
    {
      "cell_type": "markdown",
      "source": [
        "**Perguntas para respoder:**\n",
        "\n",
        "**1 - Qual o perfil dos clientes que aceitaram fazer o depósito de prazo?**\n",
        "    -quais características em comum eles possuem \n",
        "\n",
        "**2 - Qual o perfil dos clientes que não aceitaram fazer o depósito de prazo?**\n",
        "\n",
        "**3 - Qual o perfil geral dos clientes do banco?**"
      ],
      "metadata": {
        "id": "sdZ0qRR18nox"
      }
    },
    {
      "cell_type": "code",
      "source": [
        "bank_data.shape #fornece as linhas e colunas do dataset\n",
        "no_yes = bank_data['y'].value_counts()\n",
        "no_yes.tolist()"
      ],
      "metadata": {
        "colab": {
          "base_uri": "https://localhost:8080/"
        },
        "id": "ZayCSZj-WEne",
        "outputId": "e90d0f00-0887-46c3-d674-22104852c2bd"
      },
      "execution_count": 30,
      "outputs": [
        {
          "output_type": "execute_result",
          "data": {
            "text/plain": [
              "[36548, 4640]"
            ]
          },
          "metadata": {},
          "execution_count": 30
        }
      ]
    },
    {
      "cell_type": "markdown",
      "source": [
        "3 - Qual o perfil geral dos clientes do banco?"
      ],
      "metadata": {
        "id": "8EICoOurGfnC"
      }
    },
    {
      "cell_type": "code",
      "source": [
        "bank_data.describe()"
      ],
      "metadata": {
        "colab": {
          "base_uri": "https://localhost:8080/",
          "height": 300
        },
        "id": "y36BclH6q-Vb",
        "outputId": "32ba3ddd-a1c2-4211-c55a-15bcddba244f"
      },
      "execution_count": 7,
      "outputs": [
        {
          "output_type": "execute_result",
          "data": {
            "text/plain": [
              "               age      duration      campaign         pdays      previous  \\\n",
              "count  41188.00000  41188.000000  41188.000000  41188.000000  41188.000000   \n",
              "mean      40.02406    258.285010      2.567593    962.475454      0.172963   \n",
              "std       10.42125    259.279249      2.770014    186.910907      0.494901   \n",
              "min       17.00000      0.000000      1.000000      0.000000      0.000000   \n",
              "25%       32.00000    102.000000      1.000000    999.000000      0.000000   \n",
              "50%       38.00000    180.000000      2.000000    999.000000      0.000000   \n",
              "75%       47.00000    319.000000      3.000000    999.000000      0.000000   \n",
              "max       98.00000   4918.000000     56.000000    999.000000      7.000000   \n",
              "\n",
              "       emp.var.rate  cons.price.idx  cons.conf.idx     euribor3m   nr.employed  \n",
              "count  41188.000000    41188.000000   41188.000000  41188.000000  41188.000000  \n",
              "mean       0.081886       93.575664     -40.502600      3.621291   5167.035911  \n",
              "std        1.570960        0.578840       4.628198      1.734447     72.251528  \n",
              "min       -3.400000       92.201000     -50.800000      0.634000   4963.600000  \n",
              "25%       -1.800000       93.075000     -42.700000      1.344000   5099.100000  \n",
              "50%        1.100000       93.749000     -41.800000      4.857000   5191.000000  \n",
              "75%        1.400000       93.994000     -36.400000      4.961000   5228.100000  \n",
              "max        1.400000       94.767000     -26.900000      5.045000   5228.100000  "
            ],
            "text/html": [
              "\n",
              "  <div id=\"df-2f4152a8-bc3d-48ff-ad72-ac831c489145\">\n",
              "    <div class=\"colab-df-container\">\n",
              "      <div>\n",
              "<style scoped>\n",
              "    .dataframe tbody tr th:only-of-type {\n",
              "        vertical-align: middle;\n",
              "    }\n",
              "\n",
              "    .dataframe tbody tr th {\n",
              "        vertical-align: top;\n",
              "    }\n",
              "\n",
              "    .dataframe thead th {\n",
              "        text-align: right;\n",
              "    }\n",
              "</style>\n",
              "<table border=\"1\" class=\"dataframe\">\n",
              "  <thead>\n",
              "    <tr style=\"text-align: right;\">\n",
              "      <th></th>\n",
              "      <th>age</th>\n",
              "      <th>duration</th>\n",
              "      <th>campaign</th>\n",
              "      <th>pdays</th>\n",
              "      <th>previous</th>\n",
              "      <th>emp.var.rate</th>\n",
              "      <th>cons.price.idx</th>\n",
              "      <th>cons.conf.idx</th>\n",
              "      <th>euribor3m</th>\n",
              "      <th>nr.employed</th>\n",
              "    </tr>\n",
              "  </thead>\n",
              "  <tbody>\n",
              "    <tr>\n",
              "      <th>count</th>\n",
              "      <td>41188.00000</td>\n",
              "      <td>41188.000000</td>\n",
              "      <td>41188.000000</td>\n",
              "      <td>41188.000000</td>\n",
              "      <td>41188.000000</td>\n",
              "      <td>41188.000000</td>\n",
              "      <td>41188.000000</td>\n",
              "      <td>41188.000000</td>\n",
              "      <td>41188.000000</td>\n",
              "      <td>41188.000000</td>\n",
              "    </tr>\n",
              "    <tr>\n",
              "      <th>mean</th>\n",
              "      <td>40.02406</td>\n",
              "      <td>258.285010</td>\n",
              "      <td>2.567593</td>\n",
              "      <td>962.475454</td>\n",
              "      <td>0.172963</td>\n",
              "      <td>0.081886</td>\n",
              "      <td>93.575664</td>\n",
              "      <td>-40.502600</td>\n",
              "      <td>3.621291</td>\n",
              "      <td>5167.035911</td>\n",
              "    </tr>\n",
              "    <tr>\n",
              "      <th>std</th>\n",
              "      <td>10.42125</td>\n",
              "      <td>259.279249</td>\n",
              "      <td>2.770014</td>\n",
              "      <td>186.910907</td>\n",
              "      <td>0.494901</td>\n",
              "      <td>1.570960</td>\n",
              "      <td>0.578840</td>\n",
              "      <td>4.628198</td>\n",
              "      <td>1.734447</td>\n",
              "      <td>72.251528</td>\n",
              "    </tr>\n",
              "    <tr>\n",
              "      <th>min</th>\n",
              "      <td>17.00000</td>\n",
              "      <td>0.000000</td>\n",
              "      <td>1.000000</td>\n",
              "      <td>0.000000</td>\n",
              "      <td>0.000000</td>\n",
              "      <td>-3.400000</td>\n",
              "      <td>92.201000</td>\n",
              "      <td>-50.800000</td>\n",
              "      <td>0.634000</td>\n",
              "      <td>4963.600000</td>\n",
              "    </tr>\n",
              "    <tr>\n",
              "      <th>25%</th>\n",
              "      <td>32.00000</td>\n",
              "      <td>102.000000</td>\n",
              "      <td>1.000000</td>\n",
              "      <td>999.000000</td>\n",
              "      <td>0.000000</td>\n",
              "      <td>-1.800000</td>\n",
              "      <td>93.075000</td>\n",
              "      <td>-42.700000</td>\n",
              "      <td>1.344000</td>\n",
              "      <td>5099.100000</td>\n",
              "    </tr>\n",
              "    <tr>\n",
              "      <th>50%</th>\n",
              "      <td>38.00000</td>\n",
              "      <td>180.000000</td>\n",
              "      <td>2.000000</td>\n",
              "      <td>999.000000</td>\n",
              "      <td>0.000000</td>\n",
              "      <td>1.100000</td>\n",
              "      <td>93.749000</td>\n",
              "      <td>-41.800000</td>\n",
              "      <td>4.857000</td>\n",
              "      <td>5191.000000</td>\n",
              "    </tr>\n",
              "    <tr>\n",
              "      <th>75%</th>\n",
              "      <td>47.00000</td>\n",
              "      <td>319.000000</td>\n",
              "      <td>3.000000</td>\n",
              "      <td>999.000000</td>\n",
              "      <td>0.000000</td>\n",
              "      <td>1.400000</td>\n",
              "      <td>93.994000</td>\n",
              "      <td>-36.400000</td>\n",
              "      <td>4.961000</td>\n",
              "      <td>5228.100000</td>\n",
              "    </tr>\n",
              "    <tr>\n",
              "      <th>max</th>\n",
              "      <td>98.00000</td>\n",
              "      <td>4918.000000</td>\n",
              "      <td>56.000000</td>\n",
              "      <td>999.000000</td>\n",
              "      <td>7.000000</td>\n",
              "      <td>1.400000</td>\n",
              "      <td>94.767000</td>\n",
              "      <td>-26.900000</td>\n",
              "      <td>5.045000</td>\n",
              "      <td>5228.100000</td>\n",
              "    </tr>\n",
              "  </tbody>\n",
              "</table>\n",
              "</div>\n",
              "      <button class=\"colab-df-convert\" onclick=\"convertToInteractive('df-2f4152a8-bc3d-48ff-ad72-ac831c489145')\"\n",
              "              title=\"Convert this dataframe to an interactive table.\"\n",
              "              style=\"display:none;\">\n",
              "        \n",
              "  <svg xmlns=\"http://www.w3.org/2000/svg\" height=\"24px\"viewBox=\"0 0 24 24\"\n",
              "       width=\"24px\">\n",
              "    <path d=\"M0 0h24v24H0V0z\" fill=\"none\"/>\n",
              "    <path d=\"M18.56 5.44l.94 2.06.94-2.06 2.06-.94-2.06-.94-.94-2.06-.94 2.06-2.06.94zm-11 1L8.5 8.5l.94-2.06 2.06-.94-2.06-.94L8.5 2.5l-.94 2.06-2.06.94zm10 10l.94 2.06.94-2.06 2.06-.94-2.06-.94-.94-2.06-.94 2.06-2.06.94z\"/><path d=\"M17.41 7.96l-1.37-1.37c-.4-.4-.92-.59-1.43-.59-.52 0-1.04.2-1.43.59L10.3 9.45l-7.72 7.72c-.78.78-.78 2.05 0 2.83L4 21.41c.39.39.9.59 1.41.59.51 0 1.02-.2 1.41-.59l7.78-7.78 2.81-2.81c.8-.78.8-2.07 0-2.86zM5.41 20L4 18.59l7.72-7.72 1.47 1.35L5.41 20z\"/>\n",
              "  </svg>\n",
              "      </button>\n",
              "      \n",
              "  <style>\n",
              "    .colab-df-container {\n",
              "      display:flex;\n",
              "      flex-wrap:wrap;\n",
              "      gap: 12px;\n",
              "    }\n",
              "\n",
              "    .colab-df-convert {\n",
              "      background-color: #E8F0FE;\n",
              "      border: none;\n",
              "      border-radius: 50%;\n",
              "      cursor: pointer;\n",
              "      display: none;\n",
              "      fill: #1967D2;\n",
              "      height: 32px;\n",
              "      padding: 0 0 0 0;\n",
              "      width: 32px;\n",
              "    }\n",
              "\n",
              "    .colab-df-convert:hover {\n",
              "      background-color: #E2EBFA;\n",
              "      box-shadow: 0px 1px 2px rgba(60, 64, 67, 0.3), 0px 1px 3px 1px rgba(60, 64, 67, 0.15);\n",
              "      fill: #174EA6;\n",
              "    }\n",
              "\n",
              "    [theme=dark] .colab-df-convert {\n",
              "      background-color: #3B4455;\n",
              "      fill: #D2E3FC;\n",
              "    }\n",
              "\n",
              "    [theme=dark] .colab-df-convert:hover {\n",
              "      background-color: #434B5C;\n",
              "      box-shadow: 0px 1px 3px 1px rgba(0, 0, 0, 0.15);\n",
              "      filter: drop-shadow(0px 1px 2px rgba(0, 0, 0, 0.3));\n",
              "      fill: #FFFFFF;\n",
              "    }\n",
              "  </style>\n",
              "\n",
              "      <script>\n",
              "        const buttonEl =\n",
              "          document.querySelector('#df-2f4152a8-bc3d-48ff-ad72-ac831c489145 button.colab-df-convert');\n",
              "        buttonEl.style.display =\n",
              "          google.colab.kernel.accessAllowed ? 'block' : 'none';\n",
              "\n",
              "        async function convertToInteractive(key) {\n",
              "          const element = document.querySelector('#df-2f4152a8-bc3d-48ff-ad72-ac831c489145');\n",
              "          const dataTable =\n",
              "            await google.colab.kernel.invokeFunction('convertToInteractive',\n",
              "                                                     [key], {});\n",
              "          if (!dataTable) return;\n",
              "\n",
              "          const docLinkHtml = 'Like what you see? Visit the ' +\n",
              "            '<a target=\"_blank\" href=https://colab.research.google.com/notebooks/data_table.ipynb>data table notebook</a>'\n",
              "            + ' to learn more about interactive tables.';\n",
              "          element.innerHTML = '';\n",
              "          dataTable['output_type'] = 'display_data';\n",
              "          await google.colab.output.renderOutput(dataTable, element);\n",
              "          const docLink = document.createElement('div');\n",
              "          docLink.innerHTML = docLinkHtml;\n",
              "          element.appendChild(docLink);\n",
              "        }\n",
              "      </script>\n",
              "    </div>\n",
              "  </div>\n",
              "  "
            ]
          },
          "metadata": {},
          "execution_count": 7
        }
      ]
    },
    {
      "cell_type": "markdown",
      "source": [
        "1 - Qual o perfil dos clientes que aceitaram fazer o depósito de prazo?"
      ],
      "metadata": {
        "id": "JHq5M7K2Hypt"
      }
    },
    {
      "cell_type": "code",
      "source": [
        "bank_data[bank_data['y']=='yes'].describe()"
      ],
      "metadata": {
        "id": "lM3L70dMHMLe"
      },
      "execution_count": null,
      "outputs": []
    },
    {
      "cell_type": "markdown",
      "source": [
        "\n",
        "2 - Qual o perfil dos clientes que não aceitaram fazer o depósito de prazo?\n",
        "\n"
      ],
      "metadata": {
        "id": "GJTdi6UvIVOA"
      }
    },
    {
      "cell_type": "code",
      "source": [
        "bank_data[bank_data['y']=='no'].describe()"
      ],
      "metadata": {
        "id": "Ojmod94MIFy6"
      },
      "execution_count": null,
      "outputs": []
    },
    {
      "cell_type": "code",
      "source": [
        "bank_data.isnull().sum() #verificando se há valores nulos"
      ],
      "metadata": {
        "colab": {
          "base_uri": "https://localhost:8080/"
        },
        "id": "Zx9020b3evt5",
        "outputId": "61846e57-6585-49ee-83a5-4929798fbb5f"
      },
      "execution_count": 92,
      "outputs": [
        {
          "output_type": "execute_result",
          "data": {
            "text/plain": [
              "age               0\n",
              "job               0\n",
              "marital           0\n",
              "education         0\n",
              "default           0\n",
              "housing           0\n",
              "loan              0\n",
              "contact           0\n",
              "month             0\n",
              "day_of_week       0\n",
              "duration          0\n",
              "campaign          0\n",
              "pdays             0\n",
              "previous          0\n",
              "poutcome          0\n",
              "emp.var.rate      0\n",
              "cons.price.idx    0\n",
              "cons.conf.idx     0\n",
              "euribor3m         0\n",
              "nr.employed       0\n",
              "y                 0\n",
              "dtype: int64"
            ]
          },
          "metadata": {},
          "execution_count": 92
        }
      ]
    },
    {
      "cell_type": "markdown",
      "source": [
        "**Obs1: a média de idade não varia entre as pessoa que aceitaram ou não fazer o depósito**"
      ],
      "metadata": {
        "id": "WDNzQ3aiInft"
      }
    },
    {
      "cell_type": "code",
      "source": [
        "bank_data.dtypes #verificando o tipo de cada coluna"
      ],
      "metadata": {
        "colab": {
          "base_uri": "https://localhost:8080/"
        },
        "id": "y3ZFDDQAn903",
        "outputId": "736695fc-53ff-4d5f-c911-54b478335aed"
      },
      "execution_count": null,
      "outputs": [
        {
          "output_type": "execute_result",
          "data": {
            "text/plain": [
              "age                 int64\n",
              "job                object\n",
              "marital            object\n",
              "education          object\n",
              "default            object\n",
              "housing            object\n",
              "loan               object\n",
              "contact            object\n",
              "month              object\n",
              "day_of_week        object\n",
              "duration            int64\n",
              "campaign            int64\n",
              "pdays               int64\n",
              "previous            int64\n",
              "poutcome           object\n",
              "emp.var.rate      float64\n",
              "cons.price.idx    float64\n",
              "cons.conf.idx     float64\n",
              "euribor3m         float64\n",
              "nr.employed       float64\n",
              "y                  object\n",
              "dtype: object"
            ]
          },
          "metadata": {},
          "execution_count": 5
        }
      ]
    },
    {
      "cell_type": "code",
      "source": [
        "marital = bank_data['marital'].value_counts()\n",
        "print(marital)\n",
        "marital.tolist()"
      ],
      "metadata": {
        "colab": {
          "base_uri": "https://localhost:8080/"
        },
        "id": "-dSfh4hpJ7F0",
        "outputId": "5400c53f-1344-47e8-9e44-49b20a8ea293"
      },
      "execution_count": 38,
      "outputs": [
        {
          "output_type": "stream",
          "name": "stdout",
          "text": [
            "married     24928\n",
            "single      11568\n",
            "divorced     4612\n",
            "unknown        80\n",
            "Name: marital, dtype: int64\n"
          ]
        },
        {
          "output_type": "execute_result",
          "data": {
            "text/plain": [
              "[24928, 11568, 4612, 80]"
            ]
          },
          "metadata": {},
          "execution_count": 38
        }
      ]
    },
    {
      "cell_type": "markdown",
      "source": [
        "**Divide-se as pessoas que disseram sim e não para saber o perfil de cada um a partir de suas características: idade, estado civil, escolaridade, etc.**\n"
      ],
      "metadata": {
        "id": "j0qQjpxFRqDA"
      }
    },
    {
      "cell_type": "code",
      "source": [
        "#[0, married]\n",
        "#[1, single]\n",
        "#[2, divorced]\n",
        "#[3, unknown]\n",
        "\n",
        "bank_data_no = bank_data[bank_data['y']=='no']\n",
        "marital_no = bank_data_no['marital'].value_counts()\n",
        "print('porcentagem das pessoas que disseram não')\n",
        "print('casado', marital_no.tolist()[0]/no_yes.tolist()[0]) \n",
        "print('solteiro', marital_no.tolist()[1]/no_yes.tolist()[0]) \n",
        "print('divorciado', marital_no.tolist()[2]/no_yes.tolist()[0]) \n",
        "print('desconhecido', marital_no.tolist()[3]/no_yes.tolist()[0], '\\n')\n",
        "bank_data_yes = bank_data[bank_data['y']=='yes']\n",
        "marital_yes = bank_data_yes['marital'].value_counts()\n",
        "marital_yes.tolist()\n",
        "print('porcentagem das pessoas que disseram sim')\n",
        "print('casado', marital_yes.tolist()[0]/no_yes.tolist()[1])\n",
        "print('solteiro', marital_yes.tolist()[1]/no_yes.tolist()[1])\n",
        "print('divorciado', marital_yes.tolist()[2]/no_yes.tolist()[1])\n",
        "print('desconhecido', marital_yes.tolist()[3]/no_yes.tolist()[1]) "
      ],
      "metadata": {
        "id": "ziD5TQl2oWug",
        "colab": {
          "base_uri": "https://localhost:8080/"
        },
        "outputId": "79e4f330-bc21-4aac-bfcb-3240dbcd31ce"
      },
      "execution_count": 48,
      "outputs": [
        {
          "output_type": "stream",
          "name": "stdout",
          "text": [
            "Divide-se as pessoas que disseram sim e não para saber o perfil de cada um a partir de suas características \n",
            "\n",
            "porcentagem das pessoas que disseram não\n",
            "casado 0.6127831892306008\n",
            "solteiro 0.2721899967166466\n",
            "divorciado 0.11316624712706577\n",
            "desconhecido 0.001860566925686768 \n",
            "\n",
            "porcentagem das pessoas que disseram sim\n",
            "casado 0.5456896551724137\n",
            "solteiro 0.34913793103448276\n",
            "divorciado 0.10258620689655172\n",
            "desconhecido 0.002586206896551724\n"
          ]
        }
      ]
    },
    {
      "cell_type": "code",
      "source": [
        "bank_data_yes['job'].value_counts()"
      ],
      "metadata": {
        "colab": {
          "base_uri": "https://localhost:8080/"
        },
        "id": "E-cYmwPQKEHx",
        "outputId": "b1603921-7aa6-48bc-d534-ee84779ba530"
      },
      "execution_count": 57,
      "outputs": [
        {
          "output_type": "execute_result",
          "data": {
            "text/plain": [
              "admin.           1352\n",
              "technician        730\n",
              "blue-collar       638\n",
              "retired           434\n",
              "management        328\n",
              "services          323\n",
              "student           275\n",
              "self-employed     149\n",
              "unemployed        144\n",
              "entrepreneur      124\n",
              "housemaid         106\n",
              "unknown            37\n",
              "Name: job, dtype: int64"
            ]
          },
          "metadata": {},
          "execution_count": 57
        }
      ]
    },
    {
      "cell_type": "code",
      "source": [
        "bank_data_no = bank_data[bank_data['y']=='no']\n",
        "job_no = bank_data_no['job'].value_counts()\n",
        "print('porcentagem das pessoas que disseram não')\n",
        "print('admin.', job_no.tolist()[0]/no_yes.tolist()[0]) \n",
        "print('blue-collar', job_no.tolist()[1]/no_yes.tolist()[0]) \n",
        "print('technician', job_no.tolist()[2]/no_yes.tolist()[0]) \n",
        "print('services', job_no.tolist()[3]/no_yes.tolist()[0])\n",
        "print('management', job_no.tolist()[4]/no_yes.tolist()[0]) \n",
        "print('entrepreneur', job_no.tolist()[5]/no_yes.tolist()[0]) \n",
        "print('retired', job_no.tolist()[6]/no_yes.tolist()[0]) \n",
        "print('self-employed', job_no.tolist()[7]/no_yes.tolist()[0])\n",
        "print('housemaid', job_no.tolist()[8]/no_yes.tolist()[0]) \n",
        "print('unemployed', job_no.tolist()[9]/no_yes.tolist()[0]) \n",
        "print('student', job_no.tolist()[10]/no_yes.tolist()[0]) \n",
        "print('unknown', job_no.tolist()[11]/no_yes.tolist()[0], '\\n')\n",
        "\n",
        "bank_data_yes = bank_data[bank_data['y']=='yes']\n",
        "job_yes = bank_data_yes['job'].value_counts()\n",
        "print('porcentagem das pessoas que disseram sim')\n",
        "print('admin', job_yes.tolist()[0]/no_yes.tolist()[1])\n",
        "print('technician', job_yes.tolist()[1]/no_yes.tolist()[1])\n",
        "print('blue-collar ', job_yes.tolist()[2]/no_yes.tolist()[1])\n",
        "print('retired', job_yes.tolist()[3]/no_yes.tolist()[1])\n",
        "print('management', job_yes.tolist()[4]/no_yes.tolist()[1])\n",
        "print('entrepreneur', job_yes.tolist()[5]/no_yes.tolist()[1])\n",
        "print('retired', job_yes.tolist()[6]/no_yes.tolist()[1])\n",
        "print('self-employed', job_yes.tolist()[7]/no_yes.tolist()[1]) \n",
        "print('housemaid', job_yes.tolist()[8]/no_yes.tolist()[1])\n",
        "print('unemployed', job_yes.tolist()[9]/no_yes.tolist()[1])\n",
        "print('student', job_yes.tolist()[10]/no_yes.tolist()[1])\n",
        "print('unknown', job_yes.tolist()[11]/no_yes.tolist()[1], '\\n')  \n",
        "\n"
      ],
      "metadata": {
        "colab": {
          "base_uri": "https://localhost:8080/"
        },
        "id": "RAALwq03S1lu",
        "outputId": "3f2c2fc8-9524-4297-bf73-deeb05255ddd"
      },
      "execution_count": 60,
      "outputs": [
        {
          "output_type": "stream",
          "name": "stdout",
          "text": [
            "porcentagem das pessoas que disseram não\n",
            "admin. 0.24816679435263214\n",
            "blue-collar 0.2357447739958411\n",
            "technician 0.16452336653168437\n",
            "services 0.09975922075079348\n",
            "management 0.07102987851592427\n",
            "entrepreneur 0.03644522272080552\n",
            "retired 0.03518660391813506\n",
            "self-employed 0.034803546021670136\n",
            "housemaid 0.0261026595162526\n",
            "unemployed 0.023804312137463063\n",
            "student 0.016416766991353835\n",
            "unknown 0.008016854547444456 \n",
            "\n",
            "porcentagem das pessoas que disseram sim\n",
            "admin 0.2913793103448276\n",
            "technician 0.15732758620689655\n",
            "blue-collar  0.1375\n",
            "retired 0.0935344827586207\n",
            "management 0.0706896551724138\n",
            "entrepreneur 0.06961206896551723\n",
            "retired 0.059267241379310345\n",
            "self-employed 0.03211206896551724\n",
            "housemaid 0.03103448275862069\n",
            "unemployed 0.026724137931034484\n",
            "student 0.022844827586206897\n",
            "unknown 0.007974137931034483 \n",
            "\n"
          ]
        }
      ]
    },
    {
      "cell_type": "markdown",
      "source": [
        "**Obs2: Ser solteiro é um bom indicativo que você pode dizer sim para a proposta de depósito de prazo**"
      ],
      "metadata": {
        "id": "U_55PxlEeOy9"
      }
    },
    {
      "cell_type": "code",
      "source": [
        "import seaborn as sns\n",
        "sns.set_theme(style=\"darkgrid\")\n",
        "ax = sns.countplot(x=\"marital\", data=bank_data_no,\n",
        "                   order = bank_data_no['marital'].value_counts().index)"
      ],
      "metadata": {
        "colab": {
          "base_uri": "https://localhost:8080/",
          "height": 502
        },
        "id": "3uxVUp_NbT0g",
        "outputId": "86d108d7-7e68-42ae-ffd7-9ace320d7d29"
      },
      "execution_count": 91,
      "outputs": [
        {
          "output_type": "display_data",
          "data": {
            "text/plain": [
              "<Figure size 720x576 with 1 Axes>"
            ],
            "image/png": "[encoded data removed]"
          },
          "metadata": {}
        }
      ]
    },
    {
      "cell_type": "code",
      "source": [
        "ax = sns.countplot(x=\"marital\", data=bank_data_yes,\n",
        "                   order = bank_data_yes['marital'].value_counts().index)"
      ],
      "metadata": {
        "colab": {
          "base_uri": "https://localhost:8080/",
          "height": 502
        },
        "id": "SF-WA-3ZbZv2",
        "outputId": "a3a75020-ea90-48d0-abba-b1ee8517a11e"
      },
      "execution_count": 90,
      "outputs": [
        {
          "output_type": "display_data",
          "data": {
            "text/plain": [
              "<Figure size 720x576 with 1 Axes>"
            ],
            "image/png": "[encoded data removed]"
          },
          "metadata": {}
        }
      ]
    },
    {
      "cell_type": "code",
      "source": [
        "sns.set(rc={'figure.figsize':(20,8)})\n",
        "sns.set_theme(style=\"darkgrid\")\n",
        "ax = sns.countplot(x=\"job\", data=bank_data_no,\n",
        "                   order = bank_data_no['job'].value_counts().index)\n",
        "\n"
      ],
      "metadata": {
        "colab": {
          "base_uri": "https://localhost:8080/",
          "height": 502
        },
        "id": "N6TpHRO-YE77",
        "outputId": "5fcef6fc-3a6a-495a-8dba-d57ab6f6d4d4"
      },
      "execution_count": 72,
      "outputs": [
        {
          "output_type": "display_data",
          "data": {
            "text/plain": [
              "<Figure size 1440x576 with 1 Axes>"
            ],
            "image/png": "[encoded data removed]"
          },
          "metadata": {}
        }
      ]
    },
    {
      "cell_type": "code",
      "source": [
        "sns.set_theme(style=\"darkgrid\")\n",
        "ax = sns.countplot(x=\"job\", data=bank_data_yes,\n",
        "                   order = bank_data_yes['job'].value_counts().index)"
      ],
      "metadata": {
        "colab": {
          "base_uri": "https://localhost:8080/",
          "height": 502
        },
        "id": "jfk0fZ9xZS5o",
        "outputId": "cb8149f0-6425-4378-c11a-68247b5a6442"
      },
      "execution_count": 71,
      "outputs": [
        {
          "output_type": "display_data",
          "data": {
            "text/plain": [
              "<Figure size 1440x576 with 1 Axes>"
            ],
            "image/png": "[encoded data removed]"
          },
          "metadata": {}
        }
      ]
    },
    {
      "cell_type": "code",
      "source": [
        "sns.set(rc={'figure.figsize':(20,8)})\n",
        "sns.set_theme(style=\"darkgrid\")\n",
        "ax = sns.countplot(x=\"education\", data=bank_data_no,\n",
        "                   order = bank_data_no['education'].value_counts().index)"
      ],
      "metadata": {
        "colab": {
          "base_uri": "https://localhost:8080/",
          "height": 502
        },
        "id": "CxpTPZNlcKHZ",
        "outputId": "beb0767d-b53b-4922-b7ed-58897b7e2ff6"
      },
      "execution_count": 83,
      "outputs": [
        {
          "output_type": "display_data",
          "data": {
            "text/plain": [
              "<Figure size 1440x576 with 1 Axes>"
            ],
            "image/png": "[encoded data removed]"
          },
          "metadata": {}
        }
      ]
    },
    {
      "cell_type": "code",
      "source": [
        "sns.set(rc={'figure.figsize':(20,8)})\n",
        "sns.set_theme(style=\"darkgrid\")\n",
        "ax = sns.countplot(x=\"education\", data=bank_data_yes,\n",
        "                   order = bank_data_yes['education'].value_counts().index)"
      ],
      "metadata": {
        "colab": {
          "base_uri": "https://localhost:8080/",
          "height": 502
        },
        "id": "Mv_KDke2cPAu",
        "outputId": "66ecf880-1510-4f05-ba3a-52ea277a227f"
      },
      "execution_count": 84,
      "outputs": [
        {
          "output_type": "display_data",
          "data": {
            "text/plain": [
              "<Figure size 1440x576 with 1 Axes>"
            ],
            "image/png": "[encoded data removed]"
          },
          "metadata": {}
        }
      ]
    },
    {
      "cell_type": "code",
      "source": [
        "sns.set(rc={'figure.figsize':(10,8)})\n",
        "sns.set_theme(style=\"darkgrid\")\n",
        "ax = sns.countplot(x=\"housing\", data=bank_data_no,\n",
        "                   order = bank_data_no['housing'].value_counts().index)"
      ],
      "metadata": {
        "colab": {
          "base_uri": "https://localhost:8080/",
          "height": 506
        },
        "id": "T6d_JbL5dz4a",
        "outputId": "f8bd6fce-6c68-4204-bea3-167967d3fa9e"
      },
      "execution_count": 89,
      "outputs": [
        {
          "output_type": "display_data",
          "data": {
            "text/plain": [
              "<Figure size 720x576 with 1 Axes>"
            ],
            "image/png": "[encoded data removed]"
          },
          "metadata": {}
        }
      ]
    },
    {
      "cell_type": "code",
      "source": [
        "sns.set(rc={'figure.figsize':(10,8)})\n",
        "sns.set_theme(style=\"darkgrid\")\n",
        "ax = sns.countplot(x=\"housing\", data=bank_data_yes,\n",
        "                   order = bank_data_yes['housing'].value_counts().index)"
      ],
      "metadata": {
        "colab": {
          "base_uri": "https://localhost:8080/",
          "height": 502
        },
        "id": "W0XGsmIxdXpt",
        "outputId": "5f9a10c2-2089-4ead-a0d2-116944306a4c"
      },
      "execution_count": 88,
      "outputs": [
        {
          "output_type": "display_data",
          "data": {
            "text/plain": [
              "<Figure size 720x576 with 1 Axes>"
            ],
            "image/png": "[encoded data removed]"
          },
          "metadata": {}
        }
      ]
    },
    {
      "cell_type": "markdown",
      "source": [
        "**Pergunta 4 - Será que uma clusterização informará com melhor clareza quem são o grupo de pessoas que merece um foco maior da empresa? Continua no próximo episódio**"
      ],
      "metadata": {
        "id": "MLFWKUKjfCyG"
      }
    }
  ]
}